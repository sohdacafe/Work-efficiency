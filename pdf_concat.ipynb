{
  "nbformat": 4,
  "nbformat_minor": 0,
  "metadata": {
    "colab": {
      "name": "pdf_concat.ipynb",
      "provenance": [],
      "collapsed_sections": [],
      "authorship_tag": "ABX9TyPJm0UfUmLfNaLiP6IvI48M",
      "include_colab_link": true
    },
    "kernelspec": {
      "name": "python3",
      "display_name": "Python 3"
    },
    "language_info": {
      "name": "python"
    }
  },
  "cells": [
    {
      "cell_type": "markdown",
      "metadata": {
        "id": "view-in-github",
        "colab_type": "text"
      },
      "source": [
        "<a href=\"https://colab.research.google.com/github/sohdacafe/Work-efficiency/blob/main/pdf_concat.ipynb\" target=\"_parent\"><img src=\"https://colab.research.google.com/assets/colab-badge.svg\" alt=\"Open In Colab\"/></a>"
      ]
    },
    {
      "cell_type": "code",
      "execution_count": null,
      "metadata": {
        "id": "iGtNpkCua6VO"
      },
      "outputs": [],
      "source": [
        "from glob import glob\n",
        "from PyPDF2 import PdfFileMerger"
      ]
    },
    {
      "cell_type": "code",
      "source": [
        "filepaths = glob(r'C:\\Users\\Soh Aachi\\.vscode\\data\\PDF_file\\*pdf')\n",
        "filepaths"
      ],
      "metadata": {
        "id": "7CvD-z9Ja_Xj"
      },
      "execution_count": null,
      "outputs": []
    },
    {
      "cell_type": "code",
      "source": [
        "pdf_file_merger = PdfFileMerger()\n",
        "\n",
        "for filepath in filepaths :\n",
        "\n",
        "\tpdf_file_merger.append(filepath)\n",
        "\n",
        "pdf_file_merger.write('merge.pdf')\n",
        "\n",
        "pdf_file_merger.close()"
      ],
      "metadata": {
        "id": "6pwGzy0IbCKe"
      },
      "execution_count": null,
      "outputs": []
    }
  ]
}